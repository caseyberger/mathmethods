{
  "nbformat": 4,
  "nbformat_minor": 0,
  "metadata": {
    "colab": {
      "name": "Phys 631 Lab0.ipynb",
      "version": "0.3.2",
      "provenance": [],
      "collapsed_sections": [],
      "include_colab_link": true
    },
    "kernelspec": {
      "name": "python2",
      "display_name": "Python 2"
    }
  },
  "cells": [
    {
      "cell_type": "markdown",
      "metadata": {
        "id": "view-in-github",
        "colab_type": "text"
      },
      "source": [
        "<a href=\"https://colab.research.google.com/github/caseyberger/mathmethods/blob/master/Phys_631_Lab0.ipynb\" target=\"_parent\"><img src=\"https://colab.research.google.com/assets/colab-badge.svg\" alt=\"Open In Colab\"/></a>"
      ]
    },
    {
      "cell_type": "markdown",
      "metadata": {
        "id": "7jfan75qqXA0",
        "colab_type": "text"
      },
      "source": [
        "This notebook will let you run python code without installing all the packages to your laptop."
      ]
    },
    {
      "cell_type": "code",
      "metadata": {
        "id": "sy1ZB3N0pSfH",
        "colab_type": "code",
        "colab": {}
      },
      "source": [
        "import numpy as np\n",
        "import matplotlib.pyplot as plt\n",
        "%matplotlib inline"
      ],
      "execution_count": 0,
      "outputs": []
    },
    {
      "cell_type": "markdown",
      "metadata": {
        "id": "0fyurdpIpcch",
        "colab_type": "text"
      },
      "source": [
        "## Try running this notebook before you get to class"
      ]
    },
    {
      "cell_type": "markdown",
      "metadata": {
        "id": "rhBX4Nx4pw3F",
        "colab_type": "text"
      },
      "source": [
        "In the menu, under \"Runtime,\" you can select the following:\n",
        "- \"Run all\" to run all the cells in the notebook\n",
        "- \"Run before\" to run all cells before the one you have selected\n",
        "- \"Run after\" to run all the cells after the one you have selected\n",
        "\n",
        "Many errors are generated just by running cells in the wrong order, so when in doubt \"Run before\" and \"Run all\" are good debugging tools\n",
        "\n",
        "Try running the python code below."
      ]
    },
    {
      "cell_type": "code",
      "metadata": {
        "id": "PjY6BRYfpbzd",
        "colab_type": "code",
        "colab": {
          "base_uri": "https://localhost:8080/",
          "height": 283
        },
        "outputId": "8aa94906-d67b-4e9c-b251-439a1349c12d"
      },
      "source": [
        "#make a simple plot\n",
        "\n",
        "#define x\n",
        "x = np.linspace(-1,1,100)\n",
        "\n",
        "#plot the box\n",
        "plt.hlines(y=0,xmin=-1,xmax=1,linestyle = \"--\",color=\"black\")\n",
        "plt.vlines(x=0,ymin=-0.5,ymax=2,linestyle = \"--\",color=\"black\")\n",
        "plt.plot(x, x+0.5,label = \"line\", color = \"red\")\n",
        "plt.plot(x, x**2+0.5,label = \"parabola\", color = \"blue\")\n",
        "plt.plot(x, x**3+0.5,label = \"parabola\", color = \"green\")\n",
        "plt.ylabel(\"$y(x)$\")\n",
        "plt.xlabel(\"$x$\")\n",
        "plt.show()"
      ],
      "execution_count": 17,
      "outputs": [
        {
          "output_type": "display_data",
          "data": {
            "image/png": "[encoded data removed]",
            "text/plain": [
              "<Figure size 432x288 with 1 Axes>"
            ]
          },
          "metadata": {
            "tags": []
          }
        }
      ]
    },
    {
      "cell_type": "code",
      "metadata": {
        "id": "b9MLeVxsqzDy",
        "colab_type": "code",
        "colab": {}
      },
      "source": [
        ""
      ],
      "execution_count": 0,
      "outputs": []
    }
  ]
}